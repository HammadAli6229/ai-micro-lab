{
 "cells": [
  {
   "cell_type": "markdown",
   "id": "912a69ca",
   "metadata": {},
   "source": [
    "# CHATBOT WITH RULE-BASED RESPONSES\n",
    "\n",
    "Build a simple chatbot that responds to user inputs based on predefined rules. Use if-else statements or pattern matching techniques to identify user queries and provide appropriate responses. This will give you a basic understanding of natural language processing and conversation flow."
   ]
  },
  {
   "cell_type": "code",
   "execution_count": 1,
   "id": "c26c4dad",
   "metadata": {},
   "outputs": [
    {
     "name": "stdout",
     "output_type": "stream",
     "text": [
      "You: hi\n",
      "Chatbot: Hello! How can I help you?\n",
      "You: how are you\n",
      "Chatbot: I am just a computer program, but thanks for asking!\n",
      "You: what is your name\n",
      "Chatbot: I am a simple chatbot.\n",
      "You: ask something\n",
      "Chatbot: Hello! How can I help you?\n",
      "You: Macbook\n",
      "Chatbot: I'm sorry, I don't understand that.\n",
      "You: bye\n",
      "Chatbot: Goodbye! Have a great day!\n",
      "You: exit\n"
     ]
    }
   ],
   "source": [
    "import re\n",
    "\n",
    "def simple_chatbot(user_input):\n",
    "    # Convert user input to lowercase to make it case-insensitive\n",
    "    user_input = user_input.lower()\n",
    "    \n",
    "    # Define some predefined patterns and responses using regular expressions\n",
    "    patterns = {\n",
    "        r'hello|hi|hey': 'Hello! How can I help you?',\n",
    "        r'how are you|how r u': 'I am just a computer program, but thanks for asking!',\n",
    "        r'what is your name': 'I am a simple chatbot.',\n",
    "        r'bye|goodbye': 'Goodbye! Have a great day!'\n",
    "    }\n",
    "    \n",
    "    # Check if the user input matches any of the predefined patterns\n",
    "    for pattern, response in patterns.items():\n",
    "        if re.search(pattern, user_input):\n",
    "            return response\n",
    "    \n",
    "    # If no match is found, return a default response\n",
    "    return \"I'm sorry, I don't understand that.\"\n",
    "\n",
    "# Test the chatbot\n",
    "while True:\n",
    "    user_input = input(\"You: \")\n",
    "    if user_input.lower() == 'exit':\n",
    "        break\n",
    "    response = simple_chatbot(user_input)\n",
    "    print(f\"Chatbot: {response}\")\n"
   ]
  },
  {
   "cell_type": "code",
   "execution_count": null,
   "id": "a0776038",
   "metadata": {},
   "outputs": [],
   "source": []
  }
 ],
 "metadata": {
  "kernelspec": {
   "display_name": "Python 3",
   "language": "python",
   "name": "python3"
  },
  "language_info": {
   "codemirror_mode": {
    "name": "ipython",
    "version": 3
   },
   "file_extension": ".py",
   "mimetype": "text/x-python",
   "name": "python",
   "nbconvert_exporter": "python",
   "pygments_lexer": "ipython3",
   "version": "3.8.8"
  }
 },
 "nbformat": 4,
 "nbformat_minor": 5
}
